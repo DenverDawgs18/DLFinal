{
 "cells": [
  {
   "cell_type": "code",
   "execution_count": 1,
   "id": "3fb92ce2",
   "metadata": {},
   "outputs": [],
   "source": [
    "import torch \n",
    "import torch.nn as nn\n",
    "import torch.nn.functional as F\n",
    "from torch.utils.data import TensorDataset, DataLoader\n",
    "import pandas as pd\n",
    "import numpy as np"
   ]
  },
  {
   "cell_type": "code",
   "execution_count": 2,
   "id": "42e16b88",
   "metadata": {},
   "outputs": [],
   "source": [
    "def get_data_loader(file, features, features_to_encode):\n",
    "    df = pd.read_csv(file)\n",
    "    df[\"Episode_Length_minutes\"] = pd.to_numeric(df[\"Episode_Length_minutes\"], errors=\"coerce\")\n",
    "    df[\"Number_of_Ads\"] = pd.to_numeric(df[\"Number_of_Ads\"], errors=\"coerce\")\n",
    "    df = df.dropna(subset=[\"Episode_Length_minutes\"])\n",
    "    df = df.dropna(subset=[\"Number_of_Ads\"])\n",
    "    def one_hot(df, feature):\n",
    "        encoded = pd.get_dummies(df[[feature]])\n",
    "        result = pd.concat([df, encoded], axis=1)\n",
    "        result = result.drop([feature], axis=1)\n",
    "        return(result) \n",
    "    y = df[[\"Listening_Time_minutes\"]]\n",
    "    df = df[features]\n",
    "    for to_encode in features_to_encode:\n",
    "        df = one_hot(df, to_encode)\n",
    "    x = df\n",
    "    x_tensor = torch.from_numpy(x.to_numpy().astype(np.float32))\n",
    "    y_tensor = torch.from_numpy(y.to_numpy().astype(np.float32))\n",
    "    dataset = TensorDataset(x_tensor, y_tensor)\n",
    "    dataloader = DataLoader(dataset, batch_size=64, shuffle=True)\n",
    "    return dataloader\n",
    "\n",
    "features=[\"Episode_Length_minutes\", \"Number_of_Ads\", \"Episode_Sentiment\"]\n",
    "features_to_encode = [\"Episode_Sentiment\"]\n",
    "train_dataloader = get_data_loader(\"train.csv\", \n",
    "    features=features,\n",
    "    features_to_encode=features_to_encode )"
   ]
  },
  {
   "cell_type": "code",
   "execution_count": 3,
   "id": "5ab8cc22",
   "metadata": {},
   "outputs": [],
   "source": [
    "class PodcastPredictor(nn.Module):\n",
    "    def __init__(self):\n",
    "        super().__init__()\n",
    "        self.net = nn.Sequential(\n",
    "            nn.Linear(5, 256),\n",
    "            nn.ReLU(),\n",
    "            nn.Linear(256, 512),\n",
    "            nn.ReLU(),\n",
    "            nn.Linear(512, 1024),\n",
    "            nn.ReLU(),\n",
    "            nn.Linear(1024,  2048),\n",
    "            nn.ReLU(),\n",
    "            nn.Linear(2048, 4096),\n",
    "            nn.ReLU(),\n",
    "            nn.Linear(4096, 2048),\n",
    "            nn.ReLU(),\n",
    "            nn.Linear(2048, 1024),\n",
    "            nn.ReLU(),\n",
    "            nn.Linear(1024, 512),\n",
    "            nn.ReLU(),\n",
    "            nn.Linear(512, 256),\n",
    "            nn.ReLU(),\n",
    "            nn.Linear(256, 1)\n",
    "        )\n",
    "    def forward(self, x):\n",
    "        return self.net(x)"
   ]
  },
  {
   "cell_type": "code",
   "execution_count": 4,
   "id": "0a6a7693",
   "metadata": {},
   "outputs": [],
   "source": [
    "def rmse_loss(y_hat, y):\n",
    "    return torch.sqrt(F.mse_loss(y_hat, y))"
   ]
  },
  {
   "cell_type": "code",
   "execution_count": 9,
   "id": "63abb839",
   "metadata": {},
   "outputs": [],
   "source": [
    "lr = 1e-4\n",
    "lam = 0\n",
    "num_epochs = 5"
   ]
  },
  {
   "cell_type": "code",
   "execution_count": 10,
   "id": "7e79a580",
   "metadata": {},
   "outputs": [
    {
     "name": "stdout",
     "output_type": "stream",
     "text": [
      "0\n",
      "1000\n",
      "2000\n",
      "3000\n",
      "4000\n",
      "5000\n",
      "6000\n",
      "7000\n",
      "8000\n",
      "9000\n",
      "10000\n",
      "Epoch 1, RMSE: 10.9282\n",
      "0\n",
      "1000\n",
      "2000\n",
      "3000\n",
      "4000\n",
      "5000\n",
      "6000\n",
      "7000\n",
      "8000\n",
      "9000\n",
      "10000\n",
      "Epoch 2, RMSE: 10.7488\n",
      "0\n",
      "1000\n",
      "2000\n",
      "3000\n",
      "4000\n",
      "5000\n",
      "6000\n",
      "7000\n",
      "8000\n",
      "9000\n",
      "10000\n",
      "Epoch 3, RMSE: 10.7059\n",
      "0\n",
      "1000\n",
      "2000\n",
      "3000\n",
      "4000\n",
      "5000\n",
      "6000\n",
      "7000\n",
      "8000\n",
      "9000\n",
      "10000\n",
      "Epoch 4, RMSE: 10.6783\n",
      "0\n",
      "1000\n",
      "2000\n",
      "3000\n",
      "4000\n",
      "5000\n",
      "6000\n",
      "7000\n",
      "8000\n",
      "9000\n",
      "10000\n",
      "Epoch 5, RMSE: 10.6660\n"
     ]
    }
   ],
   "source": [
    "model = PodcastPredictor()\n",
    "optim = torch.optim.Adam(model.parameters(), lr=lr, weight_decay=lam)\n",
    "\n",
    "for epoch in range(num_epochs):\n",
    "    model.train()\n",
    "    total_loss = 0\n",
    "    i = 0\n",
    "    for xb, yb in train_dataloader:\n",
    "        y_hat = model(xb)\n",
    "        loss = rmse_loss(y_hat, yb)\n",
    "        optim.zero_grad()\n",
    "        loss.backward()\n",
    "        optim.step()\n",
    "        total_loss += loss.item() * xb.size(0)\n",
    "        if i % 1000 == 0:\n",
    "            print(i)\n",
    "        i += 1\n",
    "    print(f\"Epoch {epoch+1}, RMSE: {total_loss / len(train_dataloader.dataset):.4f}\")\n"
   ]
  },
  {
   "cell_type": "code",
   "execution_count": 11,
   "id": "ad26a02d-cbcf-40fe-9faf-e79839992f00",
   "metadata": {},
   "outputs": [],
   "source": [
    "torch.save(model, \"model.pth\")"
   ]
  }
 ],
 "metadata": {
  "kernelspec": {
   "display_name": ".venv",
   "language": "python",
   "name": "python3"
  },
  "language_info": {
   "codemirror_mode": {
    "name": "ipython",
    "version": 3
   },
   "file_extension": ".py",
   "mimetype": "text/x-python",
   "name": "python",
   "nbconvert_exporter": "python",
   "pygments_lexer": "ipython3",
   "version": "3.11.5"
  }
 },
 "nbformat": 4,
 "nbformat_minor": 5
}
