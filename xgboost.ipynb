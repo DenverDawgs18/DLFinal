{
 "cells": [
  {
   "cell_type": "code",
   "execution_count": 2,
   "id": "d6d3d903",
   "metadata": {},
   "outputs": [],
   "source": [
    "import torch \n",
    "import torch.nn as nn\n",
    "import torch.nn.functional as F\n",
    "from torch.utils.data import TensorDataset, DataLoader\n",
    "import pandas as pd\n",
    "import numpy as np\n",
    "from sklearn.impute import SimpleImputer\n",
    "import xgboost as xgb"
   ]
  },
  {
   "cell_type": "code",
   "execution_count": 6,
   "id": "e780b409",
   "metadata": {},
   "outputs": [],
   "source": [
    "def get_data_loader(file, features, features_to_encode):\n",
    "    df = pd.read_csv(file)\n",
    "    imputer = SimpleImputer(strategy=\"median\")\n",
    "    df[[\"Episode_Length_minutes\"]] = imputer.fit_transform(df[[\"Episode_Length_minutes\"]])\n",
    "    imputer = SimpleImputer(strategy=\"most_frequent\")\n",
    "    df[[\"Number_of_Ads\"]] = imputer.fit_transform(df[[\"Number_of_Ads\"]])\n",
    "    def one_hot(df, feature):\n",
    "        encoded = pd.get_dummies(df[[feature]])\n",
    "        result = pd.concat([df, encoded], axis=1)\n",
    "        result = result.drop([feature], axis=1)\n",
    "        return(result) \n",
    "    y = df[[\"Listening_Time_minutes\"]]\n",
    "    df = df[features]\n",
    "    for to_encode in features_to_encode:\n",
    "        df = one_hot(df, to_encode)\n",
    "    x = df\n",
    "    x = x.to_numpy().astype(np.float32)\n",
    "    y = y.to_numpy().astype(np.float32)\n",
    "    return x, y\n",
    "\n",
    "features=[\"Episode_Length_minutes\", \"Number_of_Ads\", \"Episode_Sentiment\"]\n",
    "features_to_encode = [\"Episode_Sentiment\"]\n",
    "x, y = get_data_loader(\"train.csv\", \n",
    "    features=features,\n",
    "    features_to_encode=features_to_encode )"
   ]
  },
  {
   "cell_type": "code",
   "execution_count": 7,
   "id": "2acf5ace",
   "metadata": {},
   "outputs": [],
   "source": [
    "model = xgb.XGBRegressor(\n",
    "    objective=\"reg:squarederror\",\n",
    "    n_estimators=100,\n",
    "    max_depth=6,\n",
    "    learning_rate=0.1,\n",
    "    verbosity=1\n",
    ")\n",
    "\n",
    "model.fit(x, y)\n",
    "model.save_model(\"xgb_model.json\")"
   ]
  },
  {
   "cell_type": "code",
   "execution_count": 9,
   "id": "d8c83c44",
   "metadata": {},
   "outputs": [],
   "source": [
    "def get_test_loader(file, features, features_to_encode):\n",
    "    df = pd.read_csv(file)\n",
    "    def one_hot(df, feature):\n",
    "        encoded = pd.get_dummies(df[[feature]])\n",
    "        result = pd.concat([df, encoded], axis=1)\n",
    "        result = result.drop([feature], axis=1)\n",
    "        return(result) \n",
    "    df = df[features]\n",
    "    imputer = SimpleImputer(strategy=\"median\")\n",
    "    df[[\"Episode_Length_minutes\"]] = imputer.fit_transform(df[[\"Episode_Length_minutes\"]])\n",
    "    imputer = SimpleImputer(strategy=\"most_frequent\")\n",
    "    df[[\"Number_of_Ads\"]] = imputer.fit_transform(df[[\"Number_of_Ads\"]])\n",
    "    for to_encode in features_to_encode:\n",
    "        df = one_hot(df, to_encode)\n",
    "    x = df\n",
    "    x_tensor = x.to_numpy().astype(np.float32)\n",
    "    return x_tensor\n",
    "\n",
    "features=[\"Episode_Length_minutes\", \"Number_of_Ads\", \"Episode_Sentiment\"]\n",
    "features_to_encode = [\"Episode_Sentiment\"]\n",
    "test_dataloader = get_test_loader(\"test.csv\", \n",
    "    features=features,\n",
    "    features_to_encode=features_to_encode )\n",
    "\n",
    "X_test = get_test_loader(\"test.csv\", features, features_to_encode)\n",
    "\n",
    "# Predict\n",
    "preds = model.predict(X_test)\n",
    "\n",
    "# Write to submission file\n",
    "import csv\n",
    "\n",
    "with open(\"submission_xgb.csv\", \"w\", newline='') as f:\n",
    "    writer = csv.writer(f)\n",
    "    writer.writerow([\"id\", \"prediction\"])\n",
    "    for i, pred in enumerate(preds, start=750000):\n",
    "        writer.writerow([i, pred])\n"
   ]
  }
 ],
 "metadata": {
  "kernelspec": {
   "display_name": ".venv",
   "language": "python",
   "name": "python3"
  },
  "language_info": {
   "codemirror_mode": {
    "name": "ipython",
    "version": 3
   },
   "file_extension": ".py",
   "mimetype": "text/x-python",
   "name": "python",
   "nbconvert_exporter": "python",
   "pygments_lexer": "ipython3",
   "version": "3.11.5"
  }
 },
 "nbformat": 4,
 "nbformat_minor": 5
}
