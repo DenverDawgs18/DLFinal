{
 "cells": [
  {
   "cell_type": "code",
   "execution_count": 23,
   "id": "d6d3d903",
   "metadata": {},
   "outputs": [],
   "source": [
    "import pandas as pd\n",
    "import numpy as np\n",
    "import lightgbm as lgb\n",
    "from sklearn.impute import SimpleImputer\n",
    "from sklearn.preprocessing import LabelEncoder\n",
    "from sklearn.model_selection import KFold\n",
    "import csv\n",
    "import matplotlib.pyplot as plt\n",
    "import seaborn as sns\n",
    "from sklearn.linear_model import LinearRegression\n",
    "\n"
   ]
  },
  {
   "cell_type": "code",
   "execution_count": 24,
   "id": "e780b409",
   "metadata": {},
   "outputs": [],
   "source": [
    "# Feature definitions\n",
    "features = [\"Episode_Length_minutes\", \"Number_of_Ads\", \"Host_Popularity_percentage\",\n",
    "            \"Guest_Popularity_percentage\", \"Episode_Sentiment\", \"Publication_Day\",\n",
    "            \"Publication_Time\", \"Genre\", \"Podcast_Name\"]\n",
    "\n",
    "features_to_encode = [\"Episode_Sentiment\", \"Publication_Day\", \"Publication_Time\", \"Genre\", \"Podcast_Name\"]\n",
    "\n",
    "# Label encoders\n",
    "encoders = {feature: LabelEncoder() for feature in features_to_encode}\n"
   ]
  },
  {
   "cell_type": "code",
   "execution_count": 13,
   "id": "2acf5ace",
   "metadata": {},
   "outputs": [
    {
     "data": {
      "text/plain": [
       "'\\nlr = 0.375\\nn_estimators = 1200\\nmax_bin = 1024\\n\\ncommon_params = {\\n    \"objective\": \"reg:squarederror\",\\n    \"n_estimators\": n_estimators,\\n    \"max_depth\": 6,\\n    \"learning_rate\": lr,\\n    \"max_bin\": max_bin,\\n    \"verbosity\": 0\\n}\\n\\nmodels = []\\nfor _ in range(10):\\n    model = xgb.XGBRegressor(**common_params)\\n    model.fit(x, y, eval_set=[(x, y)], verbose=True)\\n    models.append(model)\\n\\nmodel1, model2, model3, model4, model5, model6, model7, model8, model9, model10 = models\\n'"
      ]
     },
     "execution_count": 13,
     "metadata": {},
     "output_type": "execute_result"
    }
   ],
   "source": [
    "'''\n",
    "lr = 0.375\n",
    "n_estimators = 1200\n",
    "max_bin = 1024\n",
    "\n",
    "common_params = {\n",
    "    \"objective\": \"reg:squarederror\",\n",
    "    \"n_estimators\": n_estimators,\n",
    "    \"max_depth\": 6,\n",
    "    \"learning_rate\": lr,\n",
    "    \"max_bin\": max_bin,\n",
    "    \"verbosity\": 0\n",
    "}\n",
    "\n",
    "models = []\n",
    "for _ in range(10):\n",
    "    model = xgb.XGBRegressor(**common_params)\n",
    "    model.fit(x, y, eval_set=[(x, y)], verbose=True)\n",
    "    models.append(model)\n",
    "\n",
    "model1, model2, model3, model4, model5, model6, model7, model8, model9, model10 = models\n",
    "'''\n"
   ]
  },
  {
   "cell_type": "code",
   "execution_count": 25,
   "id": "b6eac799",
   "metadata": {},
   "outputs": [],
   "source": [
    "def preprocess(df, is_train=True):\n",
    "    # df[\"Episode_Title\"] = df[\"Episode_Title\"].str[8:]\n",
    "\n",
    "    # Impute missing values\n",
    "    for col in [\"Episode_Length_minutes\", \"Guest_Popularity_percentage\", \"Number_of_Ads\"]:\n",
    "        df[[col]] = SimpleImputer(strategy=\"median\").fit_transform(df[[col]])\n",
    "\n",
    "    # Weekend flag\n",
    "\n",
    "    # Label encode categorical variables\n",
    "    for feature in features_to_encode:\n",
    "        if is_train:\n",
    "            df[feature] = encoders[feature].fit_transform(df[feature])\n",
    "        else:\n",
    "            df[feature] = encoders[feature].transform(df[feature])\n",
    "\n",
    "    # Feature engineering\n",
    "    # df[\"Ads_Per_Minute\"] = df[\"Number_of_Ads\"] / df[\"Episode_Length_minutes\"]\n",
    "    # df[\"People_Popularity\"] = df[\"Host_Popularity_percentage\"] + df[\"Guest_Popularity_percentage\"]\n",
    "    # df[\"Linear\"] = df[\"Episode_Length_minutes\"] * 0.72\n",
    "\n",
    "    return df\n"
   ]
  },
  {
   "cell_type": "code",
   "execution_count": 26,
   "id": "d8c83c44",
   "metadata": {},
   "outputs": [],
   "source": [
    "# engineered = [\"Ads_Per_Minute\", \"People_Popularity\", \"Linear\"]\n",
    "def get_train_data(file):\n",
    "    df = pd.read_csv(file)\n",
    "    y = df[[\"Listening_Time_minutes\"]].to_numpy().astype(np.float32)\n",
    "    df = preprocess(df, is_train=True)\n",
    "    x = df[features].to_numpy().astype(np.float32)\n",
    "    return x, y\n",
    "\n",
    "def get_test_data(file):\n",
    "    df = pd.read_csv(file)\n",
    "    df = preprocess(df, is_train=False)\n",
    "    x = df[features].to_numpy().astype(np.float32)\n",
    "    return x\n",
    "\n"
   ]
  },
  {
   "cell_type": "code",
   "execution_count": 27,
   "id": "d6b31eab",
   "metadata": {},
   "outputs": [],
   "source": [
    "x, y = get_train_data(\"train.csv\")\n",
    "X_test = get_test_data(\"test.csv\")\n"
   ]
  },
  {
   "cell_type": "code",
   "execution_count": 28,
   "id": "7afc6e4c",
   "metadata": {},
   "outputs": [],
   "source": [
    "common_params = {\n",
    "    \"objective\": \"regression\",\n",
    "    \"n_estimators\": 1000,\n",
    "    \"learning_rate\": 0.03,\n",
    "    \"max_bin\": 1024,\n",
    "    \"num_leaves\": 1024,\n",
    "    \"max_depth\": -1,\n",
    "    \"subsample\": 0.7,\n",
    "    \"colsample_bytree\": 0.7,\n",
    "    \"random_state\": 42\n",
    "}\n"
   ]
  },
  {
   "cell_type": "code",
   "execution_count": 29,
   "id": "0164ce59",
   "metadata": {},
   "outputs": [
    {
     "name": "stderr",
     "output_type": "stream",
     "text": [
      "c:\\repos\\class\\.venv\\Lib\\site-packages\\sklearn\\utils\\validation.py:1408: DataConversionWarning: A column-vector y was passed when a 1d array was expected. Please change the shape of y to (n_samples, ), for example using ravel().\n",
      "  y = column_or_1d(y, warn=True)\n"
     ]
    },
    {
     "name": "stdout",
     "output_type": "stream",
     "text": [
      "[LightGBM] [Info] Auto-choosing row-wise multi-threading, the overhead of testing was 0.010428 seconds.\n",
      "You can set `force_row_wise=true` to remove the overhead.\n",
      "And if memory is not enough, you can set `force_col_wise=true`.\n",
      "[LightGBM] [Info] Total Bins 3149\n",
      "[LightGBM] [Info] Number of data points in the train set: 600000, number of used features: 9\n",
      "[LightGBM] [Info] Start training from score 45.447808\n"
     ]
    },
    {
     "name": "stderr",
     "output_type": "stream",
     "text": [
      "c:\\repos\\class\\.venv\\Lib\\site-packages\\lightgbm\\basic.py:374: UserWarning: Converting column-vector to 1d array\n",
      "  _log_warning(\"Converting column-vector to 1d array\")\n"
     ]
    },
    {
     "name": "stdout",
     "output_type": "stream",
     "text": [
      "[100]\tvalid_0's rmse: 13.3247\tvalid_0's l2: 177.546\n",
      "[200]\tvalid_0's rmse: 12.8647\tvalid_0's l2: 165.5\n",
      "[300]\tvalid_0's rmse: 12.8105\tvalid_0's l2: 164.109\n",
      "[400]\tvalid_0's rmse: 12.7864\tvalid_0's l2: 163.492\n",
      "[500]\tvalid_0's rmse: 12.7669\tvalid_0's l2: 162.993\n",
      "[600]\tvalid_0's rmse: 12.7527\tvalid_0's l2: 162.63\n",
      "[700]\tvalid_0's rmse: 12.7409\tvalid_0's l2: 162.329\n",
      "[800]\tvalid_0's rmse: 12.7298\tvalid_0's l2: 162.048\n",
      "[900]\tvalid_0's rmse: 12.7225\tvalid_0's l2: 161.863\n",
      "[1000]\tvalid_0's rmse: 12.7163\tvalid_0's l2: 161.705\n"
     ]
    },
    {
     "name": "stderr",
     "output_type": "stream",
     "text": [
      "c:\\repos\\class\\.venv\\Lib\\site-packages\\sklearn\\utils\\validation.py:1408: DataConversionWarning: A column-vector y was passed when a 1d array was expected. Please change the shape of y to (n_samples, ), for example using ravel().\n",
      "  y = column_or_1d(y, warn=True)\n"
     ]
    },
    {
     "name": "stdout",
     "output_type": "stream",
     "text": [
      "[LightGBM] [Info] Auto-choosing row-wise multi-threading, the overhead of testing was 0.011045 seconds.\n",
      "You can set `force_row_wise=true` to remove the overhead.\n",
      "And if memory is not enough, you can set `force_col_wise=true`.\n",
      "[LightGBM] [Info] Total Bins 3149\n",
      "[LightGBM] [Info] Number of data points in the train set: 600000, number of used features: 9\n",
      "[LightGBM] [Info] Start training from score 45.421359\n"
     ]
    },
    {
     "name": "stderr",
     "output_type": "stream",
     "text": [
      "c:\\repos\\class\\.venv\\Lib\\site-packages\\lightgbm\\basic.py:374: UserWarning: Converting column-vector to 1d array\n",
      "  _log_warning(\"Converting column-vector to 1d array\")\n"
     ]
    },
    {
     "name": "stdout",
     "output_type": "stream",
     "text": [
      "[100]\tvalid_0's rmse: 13.3749\tvalid_0's l2: 178.889\n",
      "[200]\tvalid_0's rmse: 12.9166\tvalid_0's l2: 166.839\n",
      "[300]\tvalid_0's rmse: 12.8617\tvalid_0's l2: 165.422\n",
      "[400]\tvalid_0's rmse: 12.8357\tvalid_0's l2: 164.754\n",
      "[500]\tvalid_0's rmse: 12.8172\tvalid_0's l2: 164.281\n",
      "[600]\tvalid_0's rmse: 12.8011\tvalid_0's l2: 163.869\n",
      "[700]\tvalid_0's rmse: 12.7889\tvalid_0's l2: 163.555\n",
      "[800]\tvalid_0's rmse: 12.776\tvalid_0's l2: 163.226\n",
      "[900]\tvalid_0's rmse: 12.7699\tvalid_0's l2: 163.071\n",
      "[1000]\tvalid_0's rmse: 12.7631\tvalid_0's l2: 162.897\n"
     ]
    },
    {
     "name": "stderr",
     "output_type": "stream",
     "text": [
      "c:\\repos\\class\\.venv\\Lib\\site-packages\\sklearn\\utils\\validation.py:1408: DataConversionWarning: A column-vector y was passed when a 1d array was expected. Please change the shape of y to (n_samples, ), for example using ravel().\n",
      "  y = column_or_1d(y, warn=True)\n"
     ]
    },
    {
     "name": "stdout",
     "output_type": "stream",
     "text": [
      "[LightGBM] [Info] Auto-choosing row-wise multi-threading, the overhead of testing was 0.009957 seconds.\n",
      "You can set `force_row_wise=true` to remove the overhead.\n",
      "And if memory is not enough, you can set `force_col_wise=true`.\n",
      "[LightGBM] [Info] Total Bins 3150\n",
      "[LightGBM] [Info] Number of data points in the train set: 600000, number of used features: 9\n",
      "[LightGBM] [Info] Start training from score 45.439263\n"
     ]
    },
    {
     "name": "stderr",
     "output_type": "stream",
     "text": [
      "c:\\repos\\class\\.venv\\Lib\\site-packages\\lightgbm\\basic.py:374: UserWarning: Converting column-vector to 1d array\n",
      "  _log_warning(\"Converting column-vector to 1d array\")\n"
     ]
    },
    {
     "name": "stdout",
     "output_type": "stream",
     "text": [
      "[100]\tvalid_0's rmse: 13.3635\tvalid_0's l2: 178.583\n",
      "[200]\tvalid_0's rmse: 12.903\tvalid_0's l2: 166.489\n",
      "[300]\tvalid_0's rmse: 12.8483\tvalid_0's l2: 165.079\n",
      "[400]\tvalid_0's rmse: 12.8219\tvalid_0's l2: 164.401\n",
      "[500]\tvalid_0's rmse: 12.8033\tvalid_0's l2: 163.925\n",
      "[600]\tvalid_0's rmse: 12.7896\tvalid_0's l2: 163.575\n",
      "[700]\tvalid_0's rmse: 12.7777\tvalid_0's l2: 163.269\n",
      "[800]\tvalid_0's rmse: 12.7659\tvalid_0's l2: 162.968\n",
      "[900]\tvalid_0's rmse: 12.7564\tvalid_0's l2: 162.726\n",
      "[1000]\tvalid_0's rmse: 12.7507\tvalid_0's l2: 162.579\n"
     ]
    },
    {
     "name": "stderr",
     "output_type": "stream",
     "text": [
      "c:\\repos\\class\\.venv\\Lib\\site-packages\\sklearn\\utils\\validation.py:1408: DataConversionWarning: A column-vector y was passed when a 1d array was expected. Please change the shape of y to (n_samples, ), for example using ravel().\n",
      "  y = column_or_1d(y, warn=True)\n"
     ]
    },
    {
     "name": "stdout",
     "output_type": "stream",
     "text": [
      "[LightGBM] [Info] Auto-choosing row-wise multi-threading, the overhead of testing was 0.010819 seconds.\n",
      "You can set `force_row_wise=true` to remove the overhead.\n",
      "And if memory is not enough, you can set `force_col_wise=true`.\n",
      "[LightGBM] [Info] Total Bins 3149\n",
      "[LightGBM] [Info] Number of data points in the train set: 600000, number of used features: 9\n",
      "[LightGBM] [Info] Start training from score 45.453215\n"
     ]
    },
    {
     "name": "stderr",
     "output_type": "stream",
     "text": [
      "c:\\repos\\class\\.venv\\Lib\\site-packages\\lightgbm\\basic.py:374: UserWarning: Converting column-vector to 1d array\n",
      "  _log_warning(\"Converting column-vector to 1d array\")\n"
     ]
    },
    {
     "name": "stdout",
     "output_type": "stream",
     "text": [
      "[100]\tvalid_0's rmse: 13.3747\tvalid_0's l2: 178.884\n",
      "[200]\tvalid_0's rmse: 12.9019\tvalid_0's l2: 166.46\n",
      "[300]\tvalid_0's rmse: 12.8474\tvalid_0's l2: 165.055\n",
      "[400]\tvalid_0's rmse: 12.8199\tvalid_0's l2: 164.349\n",
      "[500]\tvalid_0's rmse: 12.8026\tvalid_0's l2: 163.906\n",
      "[600]\tvalid_0's rmse: 12.7886\tvalid_0's l2: 163.549\n",
      "[700]\tvalid_0's rmse: 12.7761\tvalid_0's l2: 163.228\n",
      "[800]\tvalid_0's rmse: 12.7662\tvalid_0's l2: 162.976\n",
      "[900]\tvalid_0's rmse: 12.7561\tvalid_0's l2: 162.717\n",
      "[1000]\tvalid_0's rmse: 12.7478\tvalid_0's l2: 162.506\n"
     ]
    },
    {
     "name": "stderr",
     "output_type": "stream",
     "text": [
      "c:\\repos\\class\\.venv\\Lib\\site-packages\\sklearn\\utils\\validation.py:1408: DataConversionWarning: A column-vector y was passed when a 1d array was expected. Please change the shape of y to (n_samples, ), for example using ravel().\n",
      "  y = column_or_1d(y, warn=True)\n"
     ]
    },
    {
     "name": "stdout",
     "output_type": "stream",
     "text": [
      "[LightGBM] [Info] Auto-choosing row-wise multi-threading, the overhead of testing was 0.006644 seconds.\n",
      "You can set `force_row_wise=true` to remove the overhead.\n",
      "And if memory is not enough, you can set `force_col_wise=true`.\n",
      "[LightGBM] [Info] Total Bins 3149\n",
      "[LightGBM] [Info] Number of data points in the train set: 600000, number of used features: 9\n",
      "[LightGBM] [Info] Start training from score 45.425388\n"
     ]
    },
    {
     "name": "stderr",
     "output_type": "stream",
     "text": [
      "c:\\repos\\class\\.venv\\Lib\\site-packages\\lightgbm\\basic.py:374: UserWarning: Converting column-vector to 1d array\n",
      "  _log_warning(\"Converting column-vector to 1d array\")\n"
     ]
    },
    {
     "name": "stdout",
     "output_type": "stream",
     "text": [
      "[100]\tvalid_0's rmse: 13.3062\tvalid_0's l2: 177.055\n",
      "[200]\tvalid_0's rmse: 12.8569\tvalid_0's l2: 165.3\n",
      "[300]\tvalid_0's rmse: 12.803\tvalid_0's l2: 163.916\n",
      "[400]\tvalid_0's rmse: 12.7755\tvalid_0's l2: 163.214\n",
      "[500]\tvalid_0's rmse: 12.7569\tvalid_0's l2: 162.739\n",
      "[600]\tvalid_0's rmse: 12.742\tvalid_0's l2: 162.359\n",
      "[700]\tvalid_0's rmse: 12.7288\tvalid_0's l2: 162.023\n",
      "[800]\tvalid_0's rmse: 12.7182\tvalid_0's l2: 161.751\n",
      "[900]\tvalid_0's rmse: 12.7088\tvalid_0's l2: 161.513\n",
      "[1000]\tvalid_0's rmse: 12.6996\tvalid_0's l2: 161.28\n"
     ]
    }
   ],
   "source": [
    "kf = KFold(n_splits=5, shuffle=True, random_state=42)\n",
    "models = []\n",
    "\n",
    "for train_index, val_index in kf.split(x):\n",
    "    x_train, x_val = x[train_index], x[val_index]\n",
    "    y_train, y_val = y[train_index], y[val_index]\n",
    "    \n",
    "    model = lgb.LGBMRegressor(**common_params)\n",
    "    model.fit(x_train, y_train, eval_set=[(x_val, y_val)], eval_metric=\"rmse\", callbacks=[lgb.log_evaluation(100)])\n",
    "    models.append(model)\n"
   ]
  },
  {
   "cell_type": "code",
   "execution_count": 30,
   "id": "c6786214",
   "metadata": {},
   "outputs": [
    {
     "name": "stderr",
     "output_type": "stream",
     "text": [
      "c:\\repos\\class\\.venv\\Lib\\site-packages\\sklearn\\utils\\validation.py:2739: UserWarning: X does not have valid feature names, but LGBMRegressor was fitted with feature names\n",
      "  warnings.warn(\n",
      "c:\\repos\\class\\.venv\\Lib\\site-packages\\sklearn\\utils\\validation.py:2739: UserWarning: X does not have valid feature names, but LGBMRegressor was fitted with feature names\n",
      "  warnings.warn(\n",
      "c:\\repos\\class\\.venv\\Lib\\site-packages\\sklearn\\utils\\validation.py:2739: UserWarning: X does not have valid feature names, but LGBMRegressor was fitted with feature names\n",
      "  warnings.warn(\n",
      "c:\\repos\\class\\.venv\\Lib\\site-packages\\sklearn\\utils\\validation.py:2739: UserWarning: X does not have valid feature names, but LGBMRegressor was fitted with feature names\n",
      "  warnings.warn(\n",
      "c:\\repos\\class\\.venv\\Lib\\site-packages\\sklearn\\utils\\validation.py:2739: UserWarning: X does not have valid feature names, but LGBMRegressor was fitted with feature names\n",
      "  warnings.warn(\n"
     ]
    }
   ],
   "source": [
    "preds = sum(model.predict(X_test) for model in models) / len(models)\n",
    "\n",
    "with open(\"submission_lgbm.csv\", \"w\", newline='') as f:\n",
    "    writer = csv.writer(f)\n",
    "    writer.writerow([\"id\", \"prediction\"])\n",
    "    for i, pred in enumerate(preds, start=750000):\n",
    "        writer.writerow([i, pred])\n"
   ]
  },
  {
   "cell_type": "code",
   "execution_count": 21,
   "id": "91d863e0",
   "metadata": {},
   "outputs": [
    {
     "ename": "TypeError",
     "evalue": "'module' object is not callable",
     "output_type": "error",
     "traceback": [
      "\u001b[1;31m---------------------------------------------------------------------------\u001b[0m",
      "\u001b[1;31mTypeError\u001b[0m                                 Traceback (most recent call last)",
      "Cell \u001b[1;32mIn[21], line 5\u001b[0m\n\u001b[0;32m      1\u001b[0m features_to_plot \u001b[38;5;241m=\u001b[39m [\u001b[38;5;124m\"\u001b[39m\u001b[38;5;124mEpisode_Length_minutes\u001b[39m\u001b[38;5;124m\"\u001b[39m, \u001b[38;5;124m\"\u001b[39m\u001b[38;5;124mHost_Popularity_percentage\u001b[39m\u001b[38;5;124m\"\u001b[39m, \n\u001b[0;32m      2\u001b[0m                     \u001b[38;5;124m\"\u001b[39m\u001b[38;5;124mGuest_Popularity_percentage\u001b[39m\u001b[38;5;124m\"\u001b[39m, \u001b[38;5;124m\"\u001b[39m\u001b[38;5;124mListening_Time_minutes\u001b[39m\u001b[38;5;124m\"\u001b[39m, \u001b[38;5;124m\"\u001b[39m\u001b[38;5;124mNumber_of_Ads\u001b[39m\u001b[38;5;124m\"\u001b[39m]\n\u001b[0;32m      3\u001b[0m df \u001b[38;5;241m=\u001b[39m pd\u001b[38;5;241m.\u001b[39mread_csv(\u001b[38;5;124m\"\u001b[39m\u001b[38;5;124mtrain.csv\u001b[39m\u001b[38;5;124m\"\u001b[39m)\n\u001b[1;32m----> 5\u001b[0m \u001b[43mplt\u001b[49m\u001b[38;5;241;43m.\u001b[39;49m\u001b[43mfigure\u001b[49m\u001b[43m(\u001b[49m\u001b[43mfigsize\u001b[49m\u001b[38;5;241;43m=\u001b[39;49m\u001b[43m(\u001b[49m\u001b[38;5;241;43m15\u001b[39;49m\u001b[43m,\u001b[49m\u001b[43m \u001b[49m\u001b[38;5;241;43m10\u001b[39;49m\u001b[43m)\u001b[49m\u001b[43m)\u001b[49m\n\u001b[0;32m      6\u001b[0m \u001b[38;5;28;01mfor\u001b[39;00m i, feature \u001b[38;5;129;01min\u001b[39;00m \u001b[38;5;28menumerate\u001b[39m(features_to_plot, \u001b[38;5;241m1\u001b[39m):\n\u001b[0;32m      7\u001b[0m     plt\u001b[38;5;241m.\u001b[39msubplot(\u001b[38;5;241m2\u001b[39m, \u001b[38;5;241m3\u001b[39m, i)\n",
      "\u001b[1;31mTypeError\u001b[0m: 'module' object is not callable"
     ]
    }
   ],
   "source": [
    "features_to_plot = [\"Episode_Length_minutes\", \"Host_Popularity_percentage\", \n",
    "                    \"Guest_Popularity_percentage\", \"Listening_Time_minutes\", \"Number_of_Ads\"]\n",
    "df = pd.read_csv(\"train.csv\")\n",
    "\n",
    "plt.figure(figsize=(15, 10))\n",
    "for i, feature in enumerate(features_to_plot, 1):\n",
    "    plt.subplot(2, 3, i)\n",
    "    sns.histplot(df[feature], kde=True)\n",
    "    plt.title(f\"Distribution of {feature}\")\n",
    "plt.tight_layout()\n",
    "plt.show()"
   ]
  },
  {
   "cell_type": "code",
   "execution_count": null,
   "id": "59bf8ed3",
   "metadata": {},
   "outputs": [],
   "source": [
    "correlation_matrix = df[features_to_plot].corr()\n",
    "plt.figure(figsize=(12, 8))\n",
    "sns.heatmap(correlation_matrix, annot=True, cmap='coolwarm', fmt='.2f')\n",
    "plt.title(\"Correlation Heatmap\")\n",
    "plt.show()"
   ]
  },
  {
   "cell_type": "code",
   "execution_count": 36,
   "id": "446b2eea",
   "metadata": {},
   "outputs": [
    {
     "data": {
      "image/png": "[encoded data removed]",
      "text/plain": [
       "<Figure size 640x480 with 1 Axes>"
      ]
     },
     "metadata": {},
     "output_type": "display_data"
    }
   ],
   "source": [
    "categories = [\"Linear/DL\", \"LGBM/ML\"]\n",
    "values = [13.40522, 12.79389]\n",
    "\n",
    "plt.bar(categories, values, color=[\"orange\", \"green\"])\n",
    "\n",
    "plt.ylim(12, max(values) + 0.05)\n",
    "\n",
    "plt.xlabel(\"Model Type\")\n",
    "plt.ylabel(\"Loss (lower is better)\")\n",
    "plt.title(\"DL vs ML (lower is better)\")\n",
    "\n",
    "plt.show()"
   ]
  },
  {
   "cell_type": "code",
   "execution_count": null,
   "id": "abd0ac42",
   "metadata": {},
   "outputs": [
    {
     "name": "stdout",
     "output_type": "stream",
     "text": [
      "Slope: 0.7152365802402607\n"
     ]
    },
    {
     "data": {
      "image/png": "[encoded data removed]",
      "text/plain": [
       "<Figure size 800x500 with 1 Axes>"
      ]
     },
     "metadata": {},
     "output_type": "display_data"
    }
   ],
   "source": [
    "\n",
    "# Load the CSV\n",
    "df = pd.read_csv(\"train.csv\")\n",
    "\n",
    "# Extract variables\n",
    "df[\"Episode_Length_minutes\"] = SimpleImputer(strategy=\"median\").fit_transform(df[[\"Episode_Length_minutes\"]])\n",
    "X = df[['Episode_Length_minutes']]  # needs to be 2D\n",
    "y = df['Listening_Time_minutes']\n",
    "\n",
    "# Fit linear regression through the origin (no intercept)\n",
    "model = LinearRegression(fit_intercept=False)\n",
    "model.fit(X, y)\n",
    "\n",
    "# Get slope\n",
    "slope = model.coef_[0]\n",
    "print(f\"Slope: {slope}\")\n",
    "\n",
    "# Predict values\n",
    "y_pred = model.predict(X)\n",
    "\n",
    "# Plot\n",
    "plt.figure(figsize=(8, 5))\n",
    "plt.scatter(X, y, color='blue', label='Data')\n",
    "plt.plot(X, y_pred, color='red', label=f'Fit: y = {slope:.2f}x')\n",
    "plt.xlabel(\"Episode Length (minutes)\")\n",
    "plt.ylabel(\"Listening Time (minutes)\")\n",
    "plt.title(\"Slope-Only Linear Regression\")\n",
    "plt.legend()\n",
    "plt.grid(True)\n",
    "plt.tight_layout()\n",
    "plt.show()\n"
   ]
  },
  {
   "cell_type": "code",
   "execution_count": 37,
   "id": "66c6eb6b",
   "metadata": {},
   "outputs": [
    {
     "data": {
      "image/png": "[encoded data removed]",
      "text/plain": [
       "<Figure size 640x480 with 1 Axes>"
      ]
     },
     "metadata": {},
     "output_type": "display_data"
    }
   ],
   "source": [
    "categories = [\"Feature Engineered\", \"Not Feature Engineered\"]\n",
    "values = [12.79389, 12.83051]\n",
    "\n",
    "plt.bar(categories, values, color=[\"orange\", \"green\"])\n",
    "\n",
    "plt.ylim(12.5, max(values) + 0.05)\n",
    "\n",
    "plt.xlabel(\"Feature Engineered (Yes / No)\")\n",
    "plt.ylabel(\"Loss (lower is better)\")\n",
    "plt.title(\"Feature Engineered vs. Not Feature Engineered (lower is better)\")\n",
    "\n",
    "plt.show()"
   ]
  }
 ],
 "metadata": {
  "kernelspec": {
   "display_name": ".venv",
   "language": "python",
   "name": "python3"
  },
  "language_info": {
   "codemirror_mode": {
    "name": "ipython",
    "version": 3
   },
   "file_extension": ".py",
   "mimetype": "text/x-python",
   "name": "python",
   "nbconvert_exporter": "python",
   "pygments_lexer": "ipython3",
   "version": "3.11.5"
  }
 },
 "nbformat": 4,
 "nbformat_minor": 5
}
